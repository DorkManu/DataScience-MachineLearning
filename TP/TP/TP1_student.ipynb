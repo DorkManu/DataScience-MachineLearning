{
 "cells": [
  {
   "cell_type": "markdown",
   "metadata": {},
   "source": [
    "# CentraleSupelec - Statistique et apprentissage - TP1\n",
    "\n",
    "## 1. Moyenne et variance empirique"
   ]
  },
  {
   "cell_type": "code",
   "execution_count": 1,
   "metadata": {},
   "outputs": [],
   "source": [
    "%matplotlib inline\n",
    "import matplotlib.pyplot as plt\n",
    "import numpy as np\n",
    "import pandas as pd\n",
    "import math"
   ]
  },
  {
   "cell_type": "markdown",
   "metadata": {},
   "source": [
    "## Data\n",
    "Les données consistent en un ensemble de dix salaires."
   ]
  },
  {
   "cell_type": "code",
   "execution_count": 2,
   "metadata": {},
   "outputs": [
    {
     "data": {
      "text/html": [
       "<div>\n",
       "<style scoped>\n",
       "    .dataframe tbody tr th:only-of-type {\n",
       "        vertical-align: middle;\n",
       "    }\n",
       "\n",
       "    .dataframe tbody tr th {\n",
       "        vertical-align: top;\n",
       "    }\n",
       "\n",
       "    .dataframe thead th {\n",
       "        text-align: right;\n",
       "    }\n",
       "</style>\n",
       "<table border=\"1\" class=\"dataframe\">\n",
       "  <thead>\n",
       "    <tr style=\"text-align: right;\">\n",
       "      <th></th>\n",
       "      <th>salaries</th>\n",
       "    </tr>\n",
       "  </thead>\n",
       "  <tbody>\n",
       "    <tr>\n",
       "      <th>0</th>\n",
       "      <td>33219</td>\n",
       "    </tr>\n",
       "    <tr>\n",
       "      <th>1</th>\n",
       "      <td>36254</td>\n",
       "    </tr>\n",
       "    <tr>\n",
       "      <th>2</th>\n",
       "      <td>38801</td>\n",
       "    </tr>\n",
       "    <tr>\n",
       "      <th>3</th>\n",
       "      <td>46335</td>\n",
       "    </tr>\n",
       "    <tr>\n",
       "      <th>4</th>\n",
       "      <td>46840</td>\n",
       "    </tr>\n",
       "    <tr>\n",
       "      <th>5</th>\n",
       "      <td>47596</td>\n",
       "    </tr>\n",
       "    <tr>\n",
       "      <th>6</th>\n",
       "      <td>55130</td>\n",
       "    </tr>\n",
       "    <tr>\n",
       "      <th>7</th>\n",
       "      <td>56863</td>\n",
       "    </tr>\n",
       "    <tr>\n",
       "      <th>8</th>\n",
       "      <td>78070</td>\n",
       "    </tr>\n",
       "    <tr>\n",
       "      <th>9</th>\n",
       "      <td>88830</td>\n",
       "    </tr>\n",
       "  </tbody>\n",
       "</table>\n",
       "</div>"
      ],
      "text/plain": [
       "   salaries\n",
       "0     33219\n",
       "1     36254\n",
       "2     38801\n",
       "3     46335\n",
       "4     46840\n",
       "5     47596\n",
       "6     55130\n",
       "7     56863\n",
       "8     78070\n",
       "9     88830"
      ]
     },
     "execution_count": 2,
     "metadata": {},
     "output_type": "execute_result"
    }
   ],
   "source": [
    "data = pd.DataFrame({'salaries': \n",
    "                     [33219, 36254, 38801, 46335, 46840, \n",
    "                      47596, 55130, 56863, 78070, 88830]})\n",
    "data[0:]"
   ]
  },
  {
   "cell_type": "code",
   "execution_count": 3,
   "metadata": {},
   "outputs": [
    {
     "data": {
      "text/plain": [
       "<AxesSubplot:>"
      ]
     },
     "execution_count": 3,
     "metadata": {},
     "output_type": "execute_result"
    },
    {
     "data": {
      "image/png": "[encoded data removed]",
      "text/plain": [
       "<Figure size 432x288 with 1 Axes>"
      ]
     },
     "metadata": {
      "needs_background": "light"
     },
     "output_type": "display_data"
    }
   ],
   "source": [
    "data.plot(kind='bar')"
   ]
  },
  {
   "cell_type": "markdown",
   "metadata": {},
   "source": [
    "### Calcul de la variance empirique\n",
    "\n",
    "The variance of a data set describes the average of the squared differences from the mean. In other words, it is a measure of how far each value in the data set is from the mean. The symbol for the variance of a population is $\\sigma^2$ (sigma squared) and for a sample we use $s^2$. We calculate the variance by summing the squared difference from the mean for each value. For the population, we divide by the number of values $n$ in the data set.\n",
    "\n",
    "La variance d'un ensemble de données décrit la moyenne des différences au carré par rapport à la moyenne. En d'autres termes, il s'agit d'une mesure de l'écart de chaque valeur de l'ensemble de données par rapport à la moyenne. Le symbole de la variance d'une population est $\\sigma^2$ (sigma au carré) et pour un échantillon nous utilisons $s^2$. Nous calculons la variance en additionnant la différence au carré par rapport à la moyenne pour chaque valeur. \n",
    "\n",
    "Un estimateur de la variance peut-être obtenu en utilisant la formule suivante: \n",
    "\n",
    "$$population\\ variance:\\ \\sigma^2=\\frac{1}{n}\\sum_{i=0}^n(x_i-\\mu)^2$$\n",
    "\n",
    "Lorsque la moyenne $\\mu$ est inconnue, utiliser la moyenne empirique $\\bar{x}$ (méthode de substitution) donne un estimateur biaisé. Pour corriger ce biais, on utilise généralement l'estimateur suivant:  \n",
    "\n",
    "$$sample\\ variance:\\ s^2=\\frac{1}{n-1}\\sum_{i=0}^n(x_i-\\bar{x})^2$$\n",
    "\n",
    "On peut-remarquer que nous divisons maintenant les valeurs additionnées par un facteur $n-1$. Cette technique s'appelle la correction de Bessel (https://fr.qaz.wiki/wiki/Bessel%27s_correction).\n",
    "\n",
    "**Question** Calculez la *population variance* et la  *sample variance* de l'échantillon*."
   ]
  },
  {
   "cell_type": "code",
   "execution_count": null,
   "metadata": {},
   "outputs": [],
   "source": [
    "################ To do ##############\n"
   ]
  },
  {
   "cell_type": "markdown",
   "metadata": {},
   "source": [
    "Vous pouvez ensuite comparer votre résultat avec celui obtenu en utilisant les fonctions de numpy."
   ]
  },
  {
   "cell_type": "code",
   "execution_count": null,
   "metadata": {},
   "outputs": [],
   "source": [
    "population_variance = np.var(data.salaries) # ddof=0 by default in NumPy\n",
    "sample_variance = np.var(data.salaries, ddof=1)\n",
    "\n",
    "population_variance, sample_variance"
   ]
  },
  {
   "cell_type": "markdown",
   "metadata": {},
   "source": [
    "## Calculer l'écart-type\n",
    "\n",
    "L'écart-type est une mesure normalisée largement utilisée pour mesurer la dispersion d'un ensemble de données. Contrairement à la variance, l'écart-type utilise la même échelle que nos valeurs, en l'occurrence les euros. Dans une distribution normale, environ 95 % des valeurs se situent à moins de deux écarts types de la moyenne. Nous utilisons la lettre grecque sigma $\\sigma$ pour symboliser l'écart-type de la population. \n",
    "\n",
    "$$population\\ standard\\ deviation:\\ \\sigma=\\sqrt{\\frac{1}{n}\\sum_{i=0}^n(x_i-\\mu)^2}\\ \\ =\\ \\ \\sqrt{\\sigma^2}$$\n",
    "\n",
    "Nous utilisons la lettre minuscule $s$ pour l'écart type de l'échantillon.\n",
    "\n",
    "$$sample\\ standard\\ deviation:\\ s=\\sqrt{\\frac{1}{n-1}\\sum_{i=0}^n(x_i-\\bar{x})^2}\\ \\ =\\ \\ \\sqrt{s^2}$$"
   ]
  },
  {
   "cell_type": "markdown",
   "metadata": {},
   "source": [
    "**Question**: Calculez la *population standard deviation* et la *sample standard deviation*."
   ]
  },
  {
   "cell_type": "code",
   "execution_count": null,
   "metadata": {},
   "outputs": [],
   "source": [
    "################ To do ################"
   ]
  },
  {
   "cell_type": "markdown",
   "metadata": {},
   "source": [
    "Vous pouvez ensuite comparer votre résultat avec celui obtenu en utilisant les fonctions de numpy."
   ]
  },
  {
   "cell_type": "code",
   "execution_count": null,
   "metadata": {},
   "outputs": [],
   "source": [
    "# Or call the NumPy std function ourselves\n",
    "population_standard_deviation = np.std(data.salaries)\n",
    "sample_standard_deviation = np.std(data.salaries, ddof=1)\n",
    "\n",
    "population_standard_deviation, sample_standard_deviation"
   ]
  },
  {
   "cell_type": "markdown",
   "metadata": {},
   "source": [
    "# Théorème central limite \n",
    "\n",
    "Dans cette partie, nous allons observer le théorème central limite. Pour cela, nous allons utiliser la librairie *python* de visualiation de données *seaborn* dont la documentation est accessible à cette adresse: https://seaborn.pydata.org/tutorial/distributions.html?highlight=density%20plot."
   ]
  },
  {
   "cell_type": "code",
   "execution_count": null,
   "metadata": {
    "jupyter": {
     "outputs_hidden": false
    }
   },
   "outputs": [],
   "source": [
    "%matplotlib inline\n",
    "import numpy as np\n",
    "import pandas as pd\n",
    "import matplotlib.pyplot as plt\n",
    "import seaborn as sns\n",
    "from scipy import stats\n",
    "from __future__ import division\n",
    "\n",
    "# turn of data table rendering\n",
    "pd.set_option('display.notebook_repr_html', False)\n",
    "\n",
    "sns.set_palette(['#00A99D', '#F5CA0C', '#B6129F', '#76620C', '#095C57'])\n",
    "np.version.full_version"
   ]
  },
  {
   "cell_type": "code",
   "execution_count": null,
   "metadata": {
    "jupyter": {
     "outputs_hidden": false
    }
   },
   "outputs": [],
   "source": [
    "sns.__version__"
   ]
  },
  {
   "cell_type": "markdown",
   "metadata": {},
   "source": [
    "## Les données\n",
    "\n",
    "Nous prenons comme population un dé tétraédrique (à quatre faces)."
   ]
  },
  {
   "cell_type": "code",
   "execution_count": null,
   "metadata": {
    "jupyter": {
     "outputs_hidden": false
    }
   },
   "outputs": [],
   "source": [
    "# Un lancer mène à l'une des quatre issues suivantes\n",
    "data = np.array([1.0, 2.0, 3.0, 4.0])\n",
    "data"
   ]
  },
  {
   "cell_type": "code",
   "execution_count": null,
   "metadata": {},
   "outputs": [],
   "source": [
    "# Nos données suivent une distribution uniforme parfaite.\n",
    "p=sns.histplot(data, bins=4)"
   ]
  },
  {
   "cell_type": "markdown",
   "metadata": {},
   "source": [
    "## Illustration du théorème central limite\n",
    "\n",
    "Le théorème de la limite centrale stipule que si nous prenons la moyenne d'un grand nombre d'échantillons indépendants, la distribution de l'échantillonnage se rapprochera d'une distribution normale, quelle que soit la forme de la distribution sous-jacente. Illustrons cela en échantillonnant la moyenne de deux lancers ($n=2$) avec le dé tétraédrique."
   ]
  },
  {
   "cell_type": "code",
   "execution_count": null,
   "metadata": {
    "jupyter": {
     "outputs_hidden": false
    }
   },
   "outputs": [],
   "source": [
    "# Déterminons le nombre de résultats possibles \n",
    "# avec un échantillon de taille 2.\n",
    "possible_outcomes = 4**2\n",
    "possible_outcomes"
   ]
  },
  {
   "cell_type": "code",
   "execution_count": null,
   "metadata": {
    "jupyter": {
     "outputs_hidden": false
    }
   },
   "outputs": [],
   "source": [
    "# Créez un dataframe panda avec la moyenne de tous les résultats possibles.\n",
    "mean_outcome_matrix = pd.DataFrame(index=data, dtype='float64', columns=data )\n",
    "\n",
    "for x in data:\n",
    "    for y in data:\n",
    "        mean_outcome_matrix[x][y] = np.mean([x,y])\n",
    "\n",
    "# Below you see a heatmap of the mean of all possible outcomes\n",
    "p=sns.heatmap(mean_outcome_matrix, annot=True)"
   ]
  },
  {
   "cell_type": "code",
   "execution_count": null,
   "metadata": {
    "jupyter": {
     "outputs_hidden": false
    }
   },
   "outputs": [],
   "source": [
    "# Ci-dessous un graphique de la distribution d'échantillonnage de tous les résultats moyens possibles\n",
    "# Notez que l'on obtient une distribution normale\n",
    "\n",
    "diff_val_count = mean_outcome_matrix.stack().value_counts().count()\n",
    "p=sns.displot(mean_outcome_matrix.stack(), bins=diff_val_count, kde=True)"
   ]
  },
  {
   "cell_type": "markdown",
   "metadata": {},
   "source": [
    "## Jouons avec des données aléatoires\n",
    "\n",
    "Pour illustrer le théorème centrale limite, nous allons visualiser les distribution obtenues en calculant la moyenne empirique d'un échantillon, pour des tailles d'échantillons de plus en plus grandes. \n",
    "\n",
    "Pour commencer, simulons une population de 1000000 lancers avec un dé tétraédrique pondéré (40% de d'obtenir un 4, 30% un 3, 20% un 2 et 10% un 1)."
   ]
  },
  {
   "cell_type": "code",
   "execution_count": null,
   "metadata": {
    "jupyter": {
     "outputs_hidden": false
    }
   },
   "outputs": [],
   "source": [
    "non_normal_data = np.random.choice(data, 100000, p=[0.10, .20, .30, .4])\n",
    "p=sns.histplot(non_normal_data)"
   ]
  },
  {
   "cell_type": "code",
   "execution_count": null,
   "metadata": {
    "jupyter": {
     "outputs_hidden": false
    }
   },
   "outputs": [],
   "source": [
    "# Vérifions la moyenne de la distribution\n",
    "non_normal_data.mean()"
   ]
  },
  {
   "cell_type": "markdown",
   "metadata": {
    "jupyter": {
     "outputs_hidden": false
    }
   },
   "source": [
    "**Question**: Pour les tailles d'échantillon $n$ suivantes ([2,5,10,30]), répéter les opérations suivantes:\n",
    "\n",
    "- effectuer 1000 tirages alléatoires des $n$ lancer de dés\n",
    "- pour chaque tirage, calculer la moyenne empirique de l'échantillon\n",
    "- affichez l'histogramme des moyennes empiriques obtenues, ainsi que la densité estimée correspondante (https://en.wikipedia.org/wiki/Kernel_density_estimation) \n",
    "    \n",
    "Si tout se passe bien, vous devriez observer que lorsque nous prenons un échantillon plus important pour calculer la moyenne d'échantillonnage, la distribution résultante deviendra plus normale et plus maigre. En outre, la moyenne de la distribution d'échantillonnage correspondra davantage à la moyenne de la population.\n",
    "\n",
    "Note: Pour afficher des sous graphes, vous pouvez utiliser vous inspirer du code suivant:"
   ]
  },
  {
   "cell_type": "code",
   "execution_count": null,
   "metadata": {},
   "outputs": [],
   "source": [
    "f, (ax1, ax2) = plt.subplots(2, 2)\n",
    "axes = [ax1[0], ax1[1], ax2[0], ax2[1]]\n",
    "ax = 0\n",
    "\n",
    "for i in [1,2,3,4]:\n",
    "    x= np.linspace(0,10)\n",
    "    axes[ax].plot(x, np.vectorize(math.sin)(x))\n",
    "    axes[ax].set_title(\"axe \" + str(ax))\n",
    "    ax += 1  \n",
    "    \n",
    "plt.tight_layout()"
   ]
  },
  {
   "cell_type": "code",
   "execution_count": null,
   "metadata": {
    "jupyter": {
     "outputs_hidden": false
    }
   },
   "outputs": [],
   "source": [
    "######### To do ###########\n",
    "# Dans cet exemple, nous traçons quatre distributions d'échantillonnage\n",
    "# de différentes tailles pour montrer l'effet de l'augmentation de \n",
    "# la taille de l'échantillon.\n",
    "# Notez que la distribution devient plus normale et plus maigre\n",
    "# avec l'augmentation de la taille de l'échantillon."
   ]
  },
  {
   "cell_type": "markdown",
   "metadata": {},
   "source": [
    "# Intervalle de confiance\n",
    "\n",
    "Si nous voulons estimer un paramètre de population (moyenne, proportion, écart-type) à partir d'une statistique d'échantillon, nous ne pouvons jamais être sûrs de notre résultat. Mais nous pouvons donner un certain niveau de confiance de notre prédiction, l'intervalle de confiance (IC). Nous utilisons les symboles suivants pour représenter les paramètres et les statistiques.\n",
    "\n",
    "|   |mean|proportion|std dev|   |\n",
    "|---|:---:|:---:|:---:|---|\n",
    "|population|$\\mu$|$p$|$\\sigma$|parameters|\n",
    "|sample|$\\bar{x}$|$\\hat{p}$|$s$|statistics|\n",
    "\n",
    "Calculons à 95% l'intervalle de confiance de la moyenne de l'échantillon des scores Klout. Pour les grands échantillons, nous pouvons résoudre l'inégalité suivante avec un niveau alpha de $\\alpha=.05$.\n",
    "\n",
    "$$\\bar{x}-q_{\\alpha/2}\\cdot\\frac{s}{\\sqrt{n}}\\lt\\mu_{estimator}\\lt\\bar{x}+q_{\\alpha/2}\\cdot\\frac{s}{\\sqrt{n}}$$ \n",
    "\n",
    "avec $q_{\\alpha/2}$ le quantile d'ordre $\\alpha/2$ de la loi normale."
   ]
  },
  {
   "cell_type": "markdown",
   "metadata": {},
   "source": [
    "## Les données (Klout score)\n",
    "\n",
    "Nous utilisons un échantillon aléatoire de scores d'influence des médias sociaux du service Klout.com (https://fr.wikipedia.org/wiki/Klout) (\"Klout scores\"). Sur une population de 620+ millions de scores, nous avons obtenu une taille d'échantillon $n=1048$."
   ]
  },
  {
   "cell_type": "code",
   "execution_count": 1,
   "metadata": {},
   "outputs": [
    {
     "data": {
      "text/plain": [
       "'1.22.3'"
      ]
     },
     "execution_count": 1,
     "metadata": {},
     "output_type": "execute_result"
    }
   ],
   "source": [
    "%matplotlib inline\n",
    "import numpy as np\n",
    "import pandas as pd\n",
    "import scipy\n",
    "import matplotlib.pyplot as plt\n",
    "import seaborn as sns\n",
    "from scipy import stats\n",
    "import math\n",
    "from __future__ import division\n",
    "\n",
    "# turn of data table rendering\n",
    "pd.set_option('display.notebook_repr_html', False)\n",
    "\n",
    "sns.set_palette(['#00A99D', '#F5CA0C', '#B6129F', '#76620C', '#095C57'])\n",
    "np.version.full_version"
   ]
  },
  {
   "cell_type": "code",
   "execution_count": 2,
   "metadata": {},
   "outputs": [
    {
     "data": {
      "text/plain": [
       "      scores\n",
       "0  25.104179\n",
       "1  60.908747\n",
       "2  23.222238\n",
       "3  51.553491\n",
       "4  22.629690"
      ]
     },
     "execution_count": 2,
     "metadata": {},
     "output_type": "execute_result"
    }
   ],
   "source": [
    "# Load the data from a csv file\n",
    "data = pd.read_csv('data/klout-scores.csv', header=None, names=['scores'])\n",
    "data.head()"
   ]
  },
  {
   "cell_type": "markdown",
   "metadata": {},
   "source": [
    "**Question** affichez l'histograme des Klout scores."
   ]
  },
  {
   "cell_type": "code",
   "execution_count": 3,
   "metadata": {
    "jupyter": {
     "outputs_hidden": false
    }
   },
   "outputs": [],
   "source": [
    "# Sample size\n",
    "n = data.scores.count()\n",
    "\n",
    "# The confidence coefficient\n",
    "confidence_coef = .95\n",
    "\n",
    "# The alpha level\n",
    "alpha = 1. - confidence_coef"
   ]
  },
  {
   "cell_type": "code",
   "execution_count": 5,
   "metadata": {},
   "outputs": [
    {
     "name": "stdout",
     "output_type": "stream",
     "text": [
      "klout_xbar 37.71905483253817\n",
      "klout_std 16.044314979048984\n"
     ]
    }
   ],
   "source": [
    "################ To do ################\n",
    "klout_xbar = data.scores.mean()\n",
    "print(f'klout_xbar {klout_xbar}')\n",
    "klout_std = data.scores.std()\n",
    "print(f'klout_std {klout_std}')"
   ]
  },
  {
   "cell_type": "markdown",
   "metadata": {},
   "source": [
    "**Question**: Calculez l'interval de confiance à 95% du score clout de l'échantillon."
   ]
  },
  {
   "cell_type": "code",
   "execution_count": null,
   "metadata": {},
   "outputs": [],
   "source": [
    "# Sample size\n",
    "n = data.scores.count()\n",
    "\n",
    "# The confidence coefficient\n",
    "confidence_coef = .95\n",
    "\n",
    "# The alpha level\n",
    "alpha = 1. - confidence_coef"
   ]
  },
  {
   "cell_type": "code",
   "execution_count": 9,
   "metadata": {},
   "outputs": [
    {
     "data": {
      "text/plain": [
       "1.959963984540054"
      ]
     },
     "execution_count": 9,
     "metadata": {},
     "output_type": "execute_result"
    }
   ],
   "source": [
    "################ To do ################\n",
    "q_alpha_2 = stats.norm.ppf(alpha / 2) * -1\n",
    "q_alpha_2"
   ]
  },
  {
   "cell_type": "code",
   "execution_count": 10,
   "metadata": {},
   "outputs": [
    {
     "name": "stdout",
     "output_type": "stream",
     "text": [
      "36.747676014280636 38.690433650795704\n"
     ]
    }
   ],
   "source": [
    "klout_CI_mean_lower = klout_xbar - q_alpha_2 * (klout_std / math.sqrt(n))\n",
    "klout_CI_mean_upper = klout_xbar + q_alpha_2 * (klout_std / math.sqrt(n))\n",
    "print(klout_CI_mean_lower, klout_CI_mean_upper)"
   ]
  },
  {
   "cell_type": "code",
   "execution_count": null,
   "metadata": {},
   "outputs": [],
   "source": []
  }
 ],
 "metadata": {
  "interpreter": {
   "hash": "2340771d5e919f807b29fd1eb60d9105922dd1778ef35a09c2fa9b0ad96e3ad1"
  },
  "kernelspec": {
   "display_name": "Python 3.10.3 64-bit",
   "language": "python",
   "name": "python3"
  },
  "language_info": {
   "codemirror_mode": {
    "name": "ipython",
    "version": 3
   },
   "file_extension": ".py",
   "mimetype": "text/x-python",
   "name": "python",
   "nbconvert_exporter": "python",
   "pygments_lexer": "ipython3",
   "version": "3.10.3"
  }
 },
 "nbformat": 4,
 "nbformat_minor": 4
}
